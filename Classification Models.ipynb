{
  "nbformat": 4,
  "nbformat_minor": 0,
  "metadata": {
    "colab": {
      "name": "Assignment 1 (Classification Task).ipynb",
      "provenance": [],
      "collapsed_sections": [
        "nW_2TjXsvjtJ",
        "5GFIKFMaCNGg",
        "dzOFZXfY98et",
        "_9vT55dSJM_j",
        "Y32FZxcdVPTk",
        "bkqWQiNA-QR9",
        "FndOR_LYNbDZ",
        "d_-aIVl_NeR4"
      ]
    },
    "kernelspec": {
      "name": "python3",
      "display_name": "Python 3"
    },
    "language_info": {
      "name": "python"
    }
  },
  "cells": [
    {
      "cell_type": "markdown",
      "metadata": {
        "id": "DtxUA88cwVn-"
      },
      "source": [
        "## Classification Task"
      ]
    },
    {
      "cell_type": "markdown",
      "metadata": {
        "id": "LGjF5pbTtx1I"
      },
      "source": [
        "Predict whether income exceeds $50K/yr based on Census Income Dataset\n",
        "\n",
        "*census_income.csv - Census Income Dataset*\n",
        "\n",
        "*census_income_details.names - Dataset description for Census data*"
      ]
    },
    {
      "cell_type": "markdown",
      "metadata": {
        "id": "nW_2TjXsvjtJ"
      },
      "source": [
        "### Preprocessing"
      ]
    },
    {
      "cell_type": "markdown",
      "metadata": {
        "id": "eW3VdFypv3Gw"
      },
      "source": [
        "#####Imports"
      ]
    },
    {
      "cell_type": "code",
      "metadata": {
        "id": "eAdxUYgQv1KO"
      },
      "source": [
        "import numpy as np\n",
        "import math\n",
        "import pandas as pd\n",
        "import matplotlib.pyplot as plt\n",
        "from sklearn.preprocessing import LabelEncoder"
      ],
      "execution_count": 1,
      "outputs": []
    },
    {
      "cell_type": "code",
      "metadata": {
        "id": "9mEX5DJswi9y"
      },
      "source": [
        "#importing census csv as pandas dataframe\n",
        "census_df = pd.read_csv(\"/content/census_income.csv\")"
      ],
      "execution_count": 2,
      "outputs": []
    },
    {
      "cell_type": "code",
      "metadata": {
        "colab": {
          "base_uri": "https://localhost:8080/",
          "height": 0
        },
        "id": "g_Pr6iOR6Cuo",
        "outputId": "b4273df9-ebbb-4328-b6fd-ad0bb7508c3b"
      },
      "source": [
        "import seaborn as sn\n",
        "sn.heatmap(census_df.corr(), annot=True)"
      ],
      "execution_count": 3,
      "outputs": [
        {
          "output_type": "execute_result",
          "data": {
            "text/plain": [
              "<matplotlib.axes._subplots.AxesSubplot at 0x7f73be2d0c10>"
            ]
          },
          "metadata": {},
          "execution_count": 3
        },
        {
          "output_type": "display_data",
          "data": {
            "image/png": "[encoded data removed]",
            "text/plain": [
              "<Figure size 432x288 with 2 Axes>"
            ]
          },
          "metadata": {
            "needs_background": "light"
          }
        }
      ]
    },
    {
      "cell_type": "markdown",
      "metadata": {
        "id": "5GFIKFMaCNGg"
      },
      "source": [
        "##### F1 Score and Accuracy using Confusion matrix"
      ]
    },
    {
      "cell_type": "code",
      "metadata": {
        "id": "VJWg9KCXCLqy"
      },
      "source": [
        "def confusion_matrix(actual, predicted):\n",
        "  classes = np.unique(actual) # extract the different classes\n",
        "  matrix = np.zeros((len(classes), len(classes))) # initialize the confusion matrix with zeros\n",
        "  for i in range(len(classes)):\n",
        "    for j in range(len(classes)):\n",
        "        matrix[i, j] = np.sum((actual == classes[i]) & (predicted == classes[j]))\n",
        "  return matrix\n",
        "\n",
        "\n",
        "def f1_score(actual, predicted):\n",
        "  matrix = confusion_matrix(actual, predicted) \n",
        "  truePositive = matrix[0][0]\n",
        "  falseNegative = matrix[0][1]\n",
        "  falsePositive = matrix[1][0]\n",
        "  precision = truePositive/(truePositive+falsePositive)\n",
        "  recall = truePositive/(truePositive+falseNegative) \n",
        "  return 2*((precision*recall)/(precision+recall))\n",
        "\n",
        "\n",
        "def model_accuracy(actual, predicted):\n",
        "  matrix = confusion_matrix(actual, predicted)\n",
        "  return (matrix[0][0]+matrix[1][1])/(matrix[0][0]+matrix[0][1]+matrix[1][0]+matrix[1][1]) "
      ],
      "execution_count": 4,
      "outputs": []
    },
    {
      "cell_type": "markdown",
      "metadata": {
        "id": "dzOFZXfY98et"
      },
      "source": [
        "##### Getting overview of data"
      ]
    },
    {
      "cell_type": "code",
      "metadata": {
        "id": "oeNT4n7TtzQo",
        "colab": {
          "base_uri": "https://localhost:8080/",
          "height": 0
        },
        "outputId": "23ded792-635c-4d0e-8dc1-6ca2a1c7ea71"
      },
      "source": [
        "# Getting a quick look at dataset \n",
        "census_df.head(100)"
      ],
      "execution_count": 5,
      "outputs": [
        {
          "output_type": "execute_result",
          "data": {
            "text/html": [
              "<div>\n",
              "<style scoped>\n",
              "    .dataframe tbody tr th:only-of-type {\n",
              "        vertical-align: middle;\n",
              "    }\n",
              "\n",
              "    .dataframe tbody tr th {\n",
              "        vertical-align: top;\n",
              "    }\n",
              "\n",
              "    .dataframe thead th {\n",
              "        text-align: right;\n",
              "    }\n",
              "</style>\n",
              "<table border=\"1\" class=\"dataframe\">\n",
              "  <thead>\n",
              "    <tr style=\"text-align: right;\">\n",
              "      <th></th>\n",
              "      <th>age</th>\n",
              "      <th>workclass</th>\n",
              "      <th>education</th>\n",
              "      <th>education-num</th>\n",
              "      <th>marital-status</th>\n",
              "      <th>occupation</th>\n",
              "      <th>relationship</th>\n",
              "      <th>race</th>\n",
              "      <th>sex</th>\n",
              "      <th>capital-gain</th>\n",
              "      <th>capital-loss</th>\n",
              "      <th>hours-per-week</th>\n",
              "      <th>native-country</th>\n",
              "      <th>income</th>\n",
              "    </tr>\n",
              "  </thead>\n",
              "  <tbody>\n",
              "    <tr>\n",
              "      <th>0</th>\n",
              "      <td>52</td>\n",
              "      <td>Self-emp-not-inc</td>\n",
              "      <td>HS-grad</td>\n",
              "      <td>9</td>\n",
              "      <td>Married-civ-spouse</td>\n",
              "      <td>Exec-managerial</td>\n",
              "      <td>Husband</td>\n",
              "      <td>White</td>\n",
              "      <td>Male</td>\n",
              "      <td>0</td>\n",
              "      <td>0</td>\n",
              "      <td>45</td>\n",
              "      <td>United-States</td>\n",
              "      <td>&gt;50K</td>\n",
              "    </tr>\n",
              "    <tr>\n",
              "      <th>1</th>\n",
              "      <td>31</td>\n",
              "      <td>Private</td>\n",
              "      <td>Masters</td>\n",
              "      <td>14</td>\n",
              "      <td>Never-married</td>\n",
              "      <td>Prof-specialty</td>\n",
              "      <td>Not-in-family</td>\n",
              "      <td>White</td>\n",
              "      <td>Female</td>\n",
              "      <td>14084</td>\n",
              "      <td>0</td>\n",
              "      <td>50</td>\n",
              "      <td>United-States</td>\n",
              "      <td>&gt;50K</td>\n",
              "    </tr>\n",
              "    <tr>\n",
              "      <th>2</th>\n",
              "      <td>42</td>\n",
              "      <td>Private</td>\n",
              "      <td>Bachelors</td>\n",
              "      <td>13</td>\n",
              "      <td>Married-civ-spouse</td>\n",
              "      <td>Exec-managerial</td>\n",
              "      <td>Husband</td>\n",
              "      <td>White</td>\n",
              "      <td>Male</td>\n",
              "      <td>5178</td>\n",
              "      <td>0</td>\n",
              "      <td>40</td>\n",
              "      <td>United-States</td>\n",
              "      <td>&gt;50K</td>\n",
              "    </tr>\n",
              "    <tr>\n",
              "      <th>3</th>\n",
              "      <td>37</td>\n",
              "      <td>Private</td>\n",
              "      <td>Some-college</td>\n",
              "      <td>10</td>\n",
              "      <td>Married-civ-spouse</td>\n",
              "      <td>Exec-managerial</td>\n",
              "      <td>Husband</td>\n",
              "      <td>Black</td>\n",
              "      <td>Male</td>\n",
              "      <td>0</td>\n",
              "      <td>0</td>\n",
              "      <td>80</td>\n",
              "      <td>United-States</td>\n",
              "      <td>&gt;50K</td>\n",
              "    </tr>\n",
              "    <tr>\n",
              "      <th>4</th>\n",
              "      <td>30</td>\n",
              "      <td>State-gov</td>\n",
              "      <td>Bachelors</td>\n",
              "      <td>13</td>\n",
              "      <td>Married-civ-spouse</td>\n",
              "      <td>Prof-specialty</td>\n",
              "      <td>Husband</td>\n",
              "      <td>Asian-Pac-Islander</td>\n",
              "      <td>Male</td>\n",
              "      <td>0</td>\n",
              "      <td>0</td>\n",
              "      <td>40</td>\n",
              "      <td>India</td>\n",
              "      <td>&gt;50K</td>\n",
              "    </tr>\n",
              "    <tr>\n",
              "      <th>...</th>\n",
              "      <td>...</td>\n",
              "      <td>...</td>\n",
              "      <td>...</td>\n",
              "      <td>...</td>\n",
              "      <td>...</td>\n",
              "      <td>...</td>\n",
              "      <td>...</td>\n",
              "      <td>...</td>\n",
              "      <td>...</td>\n",
              "      <td>...</td>\n",
              "      <td>...</td>\n",
              "      <td>...</td>\n",
              "      <td>...</td>\n",
              "      <td>...</td>\n",
              "    </tr>\n",
              "    <tr>\n",
              "      <th>95</th>\n",
              "      <td>41</td>\n",
              "      <td>Private</td>\n",
              "      <td>Masters</td>\n",
              "      <td>14</td>\n",
              "      <td>Married-civ-spouse</td>\n",
              "      <td>Exec-managerial</td>\n",
              "      <td>Husband</td>\n",
              "      <td>White</td>\n",
              "      <td>Male</td>\n",
              "      <td>0</td>\n",
              "      <td>1977</td>\n",
              "      <td>65</td>\n",
              "      <td>United-States</td>\n",
              "      <td>&gt;50K</td>\n",
              "    </tr>\n",
              "    <tr>\n",
              "      <th>96</th>\n",
              "      <td>28</td>\n",
              "      <td>?</td>\n",
              "      <td>Some-college</td>\n",
              "      <td>10</td>\n",
              "      <td>Married-civ-spouse</td>\n",
              "      <td>?</td>\n",
              "      <td>Wife</td>\n",
              "      <td>White</td>\n",
              "      <td>Female</td>\n",
              "      <td>0</td>\n",
              "      <td>1887</td>\n",
              "      <td>40</td>\n",
              "      <td>United-States</td>\n",
              "      <td>&gt;50K</td>\n",
              "    </tr>\n",
              "    <tr>\n",
              "      <th>97</th>\n",
              "      <td>46</td>\n",
              "      <td>Private</td>\n",
              "      <td>Doctorate</td>\n",
              "      <td>16</td>\n",
              "      <td>Married-civ-spouse</td>\n",
              "      <td>Exec-managerial</td>\n",
              "      <td>Husband</td>\n",
              "      <td>White</td>\n",
              "      <td>Male</td>\n",
              "      <td>15024</td>\n",
              "      <td>0</td>\n",
              "      <td>60</td>\n",
              "      <td>United-States</td>\n",
              "      <td>&gt;50K</td>\n",
              "    </tr>\n",
              "    <tr>\n",
              "      <th>98</th>\n",
              "      <td>35</td>\n",
              "      <td>Private</td>\n",
              "      <td>12th</td>\n",
              "      <td>8</td>\n",
              "      <td>Divorced</td>\n",
              "      <td>Craft-repair</td>\n",
              "      <td>Not-in-family</td>\n",
              "      <td>White</td>\n",
              "      <td>Male</td>\n",
              "      <td>0</td>\n",
              "      <td>0</td>\n",
              "      <td>50</td>\n",
              "      <td>United-States</td>\n",
              "      <td>&gt;50K</td>\n",
              "    </tr>\n",
              "    <tr>\n",
              "      <th>99</th>\n",
              "      <td>32</td>\n",
              "      <td>State-gov</td>\n",
              "      <td>Bachelors</td>\n",
              "      <td>13</td>\n",
              "      <td>Married-civ-spouse</td>\n",
              "      <td>Exec-managerial</td>\n",
              "      <td>Wife</td>\n",
              "      <td>White</td>\n",
              "      <td>Female</td>\n",
              "      <td>0</td>\n",
              "      <td>0</td>\n",
              "      <td>40</td>\n",
              "      <td>United-States</td>\n",
              "      <td>&gt;50K</td>\n",
              "    </tr>\n",
              "  </tbody>\n",
              "</table>\n",
              "<p>100 rows × 14 columns</p>\n",
              "</div>"
            ],
            "text/plain": [
              "    age         workclass     education  ...  hours-per-week native-country income\n",
              "0    52  Self-emp-not-inc       HS-grad  ...              45  United-States   >50K\n",
              "1    31           Private       Masters  ...              50  United-States   >50K\n",
              "2    42           Private     Bachelors  ...              40  United-States   >50K\n",
              "3    37           Private  Some-college  ...              80  United-States   >50K\n",
              "4    30         State-gov     Bachelors  ...              40          India   >50K\n",
              "..  ...               ...           ...  ...             ...            ...    ...\n",
              "95   41           Private       Masters  ...              65  United-States   >50K\n",
              "96   28                 ?  Some-college  ...              40  United-States   >50K\n",
              "97   46           Private     Doctorate  ...              60  United-States   >50K\n",
              "98   35           Private          12th  ...              50  United-States   >50K\n",
              "99   32         State-gov     Bachelors  ...              40  United-States   >50K\n",
              "\n",
              "[100 rows x 14 columns]"
            ]
          },
          "metadata": {},
          "execution_count": 5
        }
      ]
    },
    {
      "cell_type": "code",
      "metadata": {
        "id": "6HAj7KAKu61M",
        "colab": {
          "base_uri": "https://localhost:8080/",
          "height": 0
        },
        "outputId": "32772166-2ed0-44ac-9e71-52ac1581aec3"
      },
      "source": [
        "# Getting basic stats\n",
        "census_df.describe()"
      ],
      "execution_count": 6,
      "outputs": [
        {
          "output_type": "execute_result",
          "data": {
            "text/html": [
              "<div>\n",
              "<style scoped>\n",
              "    .dataframe tbody tr th:only-of-type {\n",
              "        vertical-align: middle;\n",
              "    }\n",
              "\n",
              "    .dataframe tbody tr th {\n",
              "        vertical-align: top;\n",
              "    }\n",
              "\n",
              "    .dataframe thead th {\n",
              "        text-align: right;\n",
              "    }\n",
              "</style>\n",
              "<table border=\"1\" class=\"dataframe\">\n",
              "  <thead>\n",
              "    <tr style=\"text-align: right;\">\n",
              "      <th></th>\n",
              "      <th>age</th>\n",
              "      <th>education-num</th>\n",
              "      <th>capital-gain</th>\n",
              "      <th>capital-loss</th>\n",
              "      <th>hours-per-week</th>\n",
              "    </tr>\n",
              "  </thead>\n",
              "  <tbody>\n",
              "    <tr>\n",
              "      <th>count</th>\n",
              "      <td>17841.000000</td>\n",
              "      <td>17841.000000</td>\n",
              "      <td>17841.000000</td>\n",
              "      <td>17841.000000</td>\n",
              "      <td>17841.000000</td>\n",
              "    </tr>\n",
              "    <tr>\n",
              "      <th>mean</th>\n",
              "      <td>40.016759</td>\n",
              "      <td>10.484054</td>\n",
              "      <td>1841.885825</td>\n",
              "      <td>116.625357</td>\n",
              "      <td>41.802926</td>\n",
              "    </tr>\n",
              "    <tr>\n",
              "      <th>std</th>\n",
              "      <td>13.033215</td>\n",
              "      <td>2.599928</td>\n",
              "      <td>9867.217768</td>\n",
              "      <td>465.333031</td>\n",
              "      <td>12.184754</td>\n",
              "    </tr>\n",
              "    <tr>\n",
              "      <th>min</th>\n",
              "      <td>17.000000</td>\n",
              "      <td>1.000000</td>\n",
              "      <td>0.000000</td>\n",
              "      <td>0.000000</td>\n",
              "      <td>1.000000</td>\n",
              "    </tr>\n",
              "    <tr>\n",
              "      <th>25%</th>\n",
              "      <td>30.000000</td>\n",
              "      <td>9.000000</td>\n",
              "      <td>0.000000</td>\n",
              "      <td>0.000000</td>\n",
              "      <td>40.000000</td>\n",
              "    </tr>\n",
              "    <tr>\n",
              "      <th>50%</th>\n",
              "      <td>39.000000</td>\n",
              "      <td>10.000000</td>\n",
              "      <td>0.000000</td>\n",
              "      <td>0.000000</td>\n",
              "      <td>40.000000</td>\n",
              "    </tr>\n",
              "    <tr>\n",
              "      <th>75%</th>\n",
              "      <td>49.000000</td>\n",
              "      <td>13.000000</td>\n",
              "      <td>0.000000</td>\n",
              "      <td>0.000000</td>\n",
              "      <td>48.000000</td>\n",
              "    </tr>\n",
              "    <tr>\n",
              "      <th>max</th>\n",
              "      <td>90.000000</td>\n",
              "      <td>16.000000</td>\n",
              "      <td>99999.000000</td>\n",
              "      <td>4356.000000</td>\n",
              "      <td>99.000000</td>\n",
              "    </tr>\n",
              "  </tbody>\n",
              "</table>\n",
              "</div>"
            ],
            "text/plain": [
              "                age  education-num  capital-gain  capital-loss  hours-per-week\n",
              "count  17841.000000   17841.000000  17841.000000  17841.000000    17841.000000\n",
              "mean      40.016759      10.484054   1841.885825    116.625357       41.802926\n",
              "std       13.033215       2.599928   9867.217768    465.333031       12.184754\n",
              "min       17.000000       1.000000      0.000000      0.000000        1.000000\n",
              "25%       30.000000       9.000000      0.000000      0.000000       40.000000\n",
              "50%       39.000000      10.000000      0.000000      0.000000       40.000000\n",
              "75%       49.000000      13.000000      0.000000      0.000000       48.000000\n",
              "max       90.000000      16.000000  99999.000000   4356.000000       99.000000"
            ]
          },
          "metadata": {},
          "execution_count": 6
        }
      ]
    },
    {
      "cell_type": "markdown",
      "metadata": {
        "id": "8T3m0HYV-GK7"
      },
      "source": [
        "##### Removing null values"
      ]
    },
    {
      "cell_type": "code",
      "metadata": {
        "id": "YxzzyJ2ftoZC",
        "colab": {
          "base_uri": "https://localhost:8080/"
        },
        "outputId": "c255a368-93ea-4e0b-988c-f3f7cb3a4a3c"
      },
      "source": [
        "# Getting number of null values in each column\n",
        "census_df.isna().sum()"
      ],
      "execution_count": 7,
      "outputs": [
        {
          "output_type": "execute_result",
          "data": {
            "text/plain": [
              "age               0\n",
              "workclass         0\n",
              "education         0\n",
              "education-num     0\n",
              "marital-status    0\n",
              "occupation        0\n",
              "relationship      0\n",
              "race              0\n",
              "sex               0\n",
              "capital-gain      0\n",
              "capital-loss      0\n",
              "hours-per-week    0\n",
              "native-country    0\n",
              "income            0\n",
              "dtype: int64"
            ]
          },
          "metadata": {},
          "execution_count": 7
        }
      ]
    },
    {
      "cell_type": "code",
      "metadata": {
        "colab": {
          "base_uri": "https://localhost:8080/"
        },
        "id": "oXQo7Y0pCK0Z",
        "outputId": "08f22a16-5b84-45ee-91ba-d01b9b638f42"
      },
      "source": [
        "# Getting idea about which columns has null values is '?'\n",
        "(census_df == \"?\").sum()"
      ],
      "execution_count": 8,
      "outputs": [
        {
          "output_type": "execute_result",
          "data": {
            "text/plain": [
              "age                 0\n",
              "workclass         820\n",
              "education           0\n",
              "education-num       0\n",
              "marital-status      0\n",
              "occupation        823\n",
              "relationship        0\n",
              "race                0\n",
              "sex                 0\n",
              "capital-gain        0\n",
              "capital-loss        0\n",
              "hours-per-week      0\n",
              "native-country    318\n",
              "income              0\n",
              "dtype: int64"
            ]
          },
          "metadata": {},
          "execution_count": 8
        }
      ]
    },
    {
      "cell_type": "code",
      "metadata": {
        "colab": {
          "base_uri": "https://localhost:8080/"
        },
        "id": "3x99PX7d0Ms5",
        "outputId": "7cc73dcb-3f3e-423b-fd95-ee42fa3874de"
      },
      "source": [
        "# workclass, occupation and native-country has '?' values\n",
        "# checking how many values are null with repect to other values\n",
        "census_df[\"workclass\"].value_counts()"
      ],
      "execution_count": 9,
      "outputs": [
        {
          "output_type": "execute_result",
          "data": {
            "text/plain": [
              "Private             12161\n",
              "Self-emp-not-inc     1455\n",
              "Local-gov            1243\n",
              "?                     820\n",
              "Self-emp-inc          817\n",
              "State-gov             741\n",
              "Federal-gov           597\n",
              "Without-pay             4\n",
              "Never-worked            3\n",
              "Name: workclass, dtype: int64"
            ]
          },
          "metadata": {},
          "execution_count": 9
        }
      ]
    },
    {
      "cell_type": "code",
      "metadata": {
        "id": "YWodwBNh52Ku"
      },
      "source": [
        "# workclass is categorical variable and number of mode values is quite large\n",
        "# so instead of deleting we can replace it with mode values\n",
        "census_df[\"workclass\"].replace(\"?\",\"Private\",inplace=True)"
      ],
      "execution_count": 10,
      "outputs": []
    },
    {
      "cell_type": "code",
      "metadata": {
        "colab": {
          "base_uri": "https://localhost:8080/"
        },
        "id": "TmOJ6GWdk885",
        "outputId": "90290d76-9136-43d4-ab28-caab33bb4537"
      },
      "source": [
        "census_df[\"native-country\"].value_counts()"
      ],
      "execution_count": 11,
      "outputs": [
        {
          "output_type": "execute_result",
          "data": {
            "text/plain": [
              "United-States         16085\n",
              "?                       318\n",
              "Mexico                  260\n",
              "Philippines             115\n",
              "Germany                  89\n",
              "Canada                   66\n",
              "India                    59\n",
              "Puerto-Rico              56\n",
              "Cuba                     53\n",
              "England                  51\n",
              "El-Salvador              46\n",
              "Italy                    46\n",
              "China                    46\n",
              "South                    39\n",
              "Japan                    38\n",
              "Jamaica                  38\n",
              "Poland                   37\n",
              "Vietnam                  37\n",
              "Dominican-Republic       36\n",
              "Columbia                 31\n",
              "Guatemala                29\n",
              "Taiwan                   29\n",
              "Haiti                    27\n",
              "Iran                     27\n",
              "France                   22\n",
              "Portugal                 15\n",
              "Peru                     14\n",
              "Ecuador                  14\n",
              "Greece                   13\n",
              "Cambodia                 13\n",
              "Hong                     12\n",
              "Nicaragua                12\n",
              "Ireland                  11\n",
              "Yugoslavia               11\n",
              "Trinadad&Tobago          10\n",
              "Hungary                   9\n",
              "Laos                      9\n",
              "Thailand                  7\n",
              "Honduras                  6\n",
              "Scotland                  5\n",
              "Name: native-country, dtype: int64"
            ]
          },
          "metadata": {},
          "execution_count": 11
        }
      ]
    },
    {
      "cell_type": "code",
      "metadata": {
        "id": "vd3u_Np9lXOn"
      },
      "source": [
        "# native-country is categorical variable and number of mode values is quite large\n",
        "# so instead of deleting we can replace it with mode values\n",
        "census_df[\"native-country\"].replace(\"?\",\"United-States\",inplace=True)"
      ],
      "execution_count": 12,
      "outputs": []
    },
    {
      "cell_type": "code",
      "metadata": {
        "colab": {
          "base_uri": "https://localhost:8080/"
        },
        "id": "XhWvw1VqWBV5",
        "outputId": "92a8e9d2-c5bc-4a4e-c5b6-09406c97db50"
      },
      "source": [
        "census_df.occupation"
      ],
      "execution_count": 13,
      "outputs": [
        {
          "output_type": "execute_result",
          "data": {
            "text/plain": [
              "0          Exec-managerial\n",
              "1           Prof-specialty\n",
              "2          Exec-managerial\n",
              "3          Exec-managerial\n",
              "4           Prof-specialty\n",
              "               ...        \n",
              "17836                    ?\n",
              "17837    Handlers-cleaners\n",
              "17838        Other-service\n",
              "17839      Priv-house-serv\n",
              "17840        Other-service\n",
              "Name: occupation, Length: 17841, dtype: object"
            ]
          },
          "metadata": {},
          "execution_count": 13
        }
      ]
    },
    {
      "cell_type": "code",
      "metadata": {
        "id": "VvqEh0QJ5PyD"
      },
      "source": [
        "census_df = census_df[census_df.occupation != \"?\"]"
      ],
      "execution_count": 14,
      "outputs": []
    },
    {
      "cell_type": "code",
      "metadata": {
        "colab": {
          "base_uri": "https://localhost:8080/"
        },
        "id": "uhxM7TkJCjkF",
        "outputId": "c50172ce-805c-4fc7-c205-3715815b59e0"
      },
      "source": [
        "# Sanity check to see all null values are removed\n",
        "(census_df == \"?\").sum()"
      ],
      "execution_count": 15,
      "outputs": [
        {
          "output_type": "execute_result",
          "data": {
            "text/plain": [
              "age               0\n",
              "workclass         0\n",
              "education         0\n",
              "education-num     0\n",
              "marital-status    0\n",
              "occupation        0\n",
              "relationship      0\n",
              "race              0\n",
              "sex               0\n",
              "capital-gain      0\n",
              "capital-loss      0\n",
              "hours-per-week    0\n",
              "native-country    0\n",
              "income            0\n",
              "dtype: int64"
            ]
          },
          "metadata": {},
          "execution_count": 15
        }
      ]
    },
    {
      "cell_type": "markdown",
      "metadata": {
        "id": "pBrR35naFiI3"
      },
      "source": [
        "##### Dropping unnecessary columns "
      ]
    },
    {
      "cell_type": "code",
      "metadata": {
        "id": "SJqriTAhFg-3"
      },
      "source": [
        "# dropping edu since edu-num is present in data frame\n",
        "col_to_drop = [\"education\",\n",
        "  \"workclass\",\n",
        "  \"occupation\",\n",
        "  \"race\",\n",
        "  \"sex\",\n",
        "  \"relationship\",\n",
        "  \"native-country\",\n",
        "  \"marital-status\"\n",
        "  ]\n",
        "census_df = census_df.drop(col_to_drop,1) "
      ],
      "execution_count": 16,
      "outputs": []
    },
    {
      "cell_type": "markdown",
      "metadata": {
        "id": "P_rnI2hk-lIv"
      },
      "source": [
        "##### Convering catagorical variable to numeric form"
      ]
    },
    {
      "cell_type": "markdown",
      "metadata": {
        "id": "rnzE5FbZJRah"
      },
      "source": [
        "###### One hot encoding"
      ]
    },
    {
      "cell_type": "code",
      "metadata": {
        "id": "mSYg0XQ-JVYE"
      },
      "source": [
        "columns_to_encode = [\n",
        "  # \"workclass\",\n",
        "  # \"occupation\",\n",
        "  # \"race\",\n",
        "  # \"sex\",\n",
        "  # \"relationship\",\n",
        "  # \"native-country\",\n",
        "  # \"marital-status\"\n",
        "]\n",
        "census_df = pd.get_dummies(census_df, columns = columns_to_encode)"
      ],
      "execution_count": 17,
      "outputs": []
    },
    {
      "cell_type": "markdown",
      "metadata": {
        "id": "_9vT55dSJM_j"
      },
      "source": [
        "###### Label Encoding"
      ]
    },
    {
      "cell_type": "code",
      "metadata": {
        "id": "KlzzP2_QH9jr"
      },
      "source": [
        "label_encoder = LabelEncoder()"
      ],
      "execution_count": 18,
      "outputs": []
    },
    {
      "cell_type": "code",
      "metadata": {
        "id": "h_EXQCRzIjTu"
      },
      "source": [
        "label_encode_income = census_df[\"income\"]"
      ],
      "execution_count": 19,
      "outputs": []
    },
    {
      "cell_type": "code",
      "metadata": {
        "id": "7uFqFADEJ6O5"
      },
      "source": [
        "census_df.drop(\"income\",1,inplace=True)"
      ],
      "execution_count": 20,
      "outputs": []
    },
    {
      "cell_type": "code",
      "metadata": {
        "id": "WifNKckDKBzT"
      },
      "source": [
        "census_df[\"income\"] = label_encoder.fit_transform(label_encode_income)"
      ],
      "execution_count": 21,
      "outputs": []
    },
    {
      "cell_type": "code",
      "metadata": {
        "colab": {
          "base_uri": "https://localhost:8080/"
        },
        "id": "xsdnClpbHKIZ",
        "outputId": "452dbf8e-5f4c-4209-faf5-8ddbac847297"
      },
      "source": [
        "census_df[\"income\"].value_counts()"
      ],
      "execution_count": 22,
      "outputs": [
        {
          "output_type": "execute_result",
          "data": {
            "text/plain": [
              "0    9368\n",
              "1    7650\n",
              "Name: income, dtype: int64"
            ]
          },
          "metadata": {},
          "execution_count": 22
        }
      ]
    },
    {
      "cell_type": "code",
      "metadata": {
        "colab": {
          "base_uri": "https://localhost:8080/",
          "height": 0
        },
        "id": "VPSLVrRpHniH",
        "outputId": "19daad3d-509f-41ee-c497-4c848e81439b"
      },
      "source": [
        "census_df.head()"
      ],
      "execution_count": 23,
      "outputs": [
        {
          "output_type": "execute_result",
          "data": {
            "text/html": [
              "<div>\n",
              "<style scoped>\n",
              "    .dataframe tbody tr th:only-of-type {\n",
              "        vertical-align: middle;\n",
              "    }\n",
              "\n",
              "    .dataframe tbody tr th {\n",
              "        vertical-align: top;\n",
              "    }\n",
              "\n",
              "    .dataframe thead th {\n",
              "        text-align: right;\n",
              "    }\n",
              "</style>\n",
              "<table border=\"1\" class=\"dataframe\">\n",
              "  <thead>\n",
              "    <tr style=\"text-align: right;\">\n",
              "      <th></th>\n",
              "      <th>age</th>\n",
              "      <th>education-num</th>\n",
              "      <th>capital-gain</th>\n",
              "      <th>capital-loss</th>\n",
              "      <th>hours-per-week</th>\n",
              "      <th>income</th>\n",
              "    </tr>\n",
              "  </thead>\n",
              "  <tbody>\n",
              "    <tr>\n",
              "      <th>0</th>\n",
              "      <td>52</td>\n",
              "      <td>9</td>\n",
              "      <td>0</td>\n",
              "      <td>0</td>\n",
              "      <td>45</td>\n",
              "      <td>1</td>\n",
              "    </tr>\n",
              "    <tr>\n",
              "      <th>1</th>\n",
              "      <td>31</td>\n",
              "      <td>14</td>\n",
              "      <td>14084</td>\n",
              "      <td>0</td>\n",
              "      <td>50</td>\n",
              "      <td>1</td>\n",
              "    </tr>\n",
              "    <tr>\n",
              "      <th>2</th>\n",
              "      <td>42</td>\n",
              "      <td>13</td>\n",
              "      <td>5178</td>\n",
              "      <td>0</td>\n",
              "      <td>40</td>\n",
              "      <td>1</td>\n",
              "    </tr>\n",
              "    <tr>\n",
              "      <th>3</th>\n",
              "      <td>37</td>\n",
              "      <td>10</td>\n",
              "      <td>0</td>\n",
              "      <td>0</td>\n",
              "      <td>80</td>\n",
              "      <td>1</td>\n",
              "    </tr>\n",
              "    <tr>\n",
              "      <th>4</th>\n",
              "      <td>30</td>\n",
              "      <td>13</td>\n",
              "      <td>0</td>\n",
              "      <td>0</td>\n",
              "      <td>40</td>\n",
              "      <td>1</td>\n",
              "    </tr>\n",
              "  </tbody>\n",
              "</table>\n",
              "</div>"
            ],
            "text/plain": [
              "   age  education-num  capital-gain  capital-loss  hours-per-week  income\n",
              "0   52              9             0             0              45       1\n",
              "1   31             14         14084             0              50       1\n",
              "2   42             13          5178             0              40       1\n",
              "3   37             10             0             0              80       1\n",
              "4   30             13             0             0              40       1"
            ]
          },
          "metadata": {},
          "execution_count": 23
        }
      ]
    },
    {
      "cell_type": "markdown",
      "metadata": {
        "id": "Y32FZxcdVPTk"
      },
      "source": [
        "##### Standardisation & Normilization"
      ]
    },
    {
      "cell_type": "markdown",
      "metadata": {
        "id": "s3HEzYXPCUOo"
      },
      "source": [
        "###### Standardisation"
      ]
    },
    {
      "cell_type": "code",
      "metadata": {
        "id": "3MRuyY-ICglU"
      },
      "source": [
        "def Standardizer(col):\n",
        "  mean = np.mean(col)\n",
        "  std = np.mean(col)\n",
        "  return [(x - mean)/std for x in col]"
      ],
      "execution_count": 24,
      "outputs": []
    },
    {
      "cell_type": "code",
      "metadata": {
        "id": "KUMhkfTNDa5K"
      },
      "source": [
        "census_df[\"capital-gain\"] = Standardizer(census_df[\"capital-gain\"])\n",
        "census_df[\"capital-loss\"] = Standardizer(census_df[\"capital-loss\"])"
      ],
      "execution_count": 25,
      "outputs": []
    },
    {
      "cell_type": "markdown",
      "metadata": {
        "id": "x5-YFEhzJ_ac"
      },
      "source": [
        "###### Normilization"
      ]
    },
    {
      "cell_type": "code",
      "metadata": {
        "id": "x9KtqOMlJ-uZ"
      },
      "source": [
        "def Normalization(col):    \n",
        "  min = col.min()\n",
        "  max = col.max()\n",
        "  return [(x - min)/(max - min) for x in col]"
      ],
      "execution_count": 26,
      "outputs": []
    },
    {
      "cell_type": "code",
      "metadata": {
        "id": "wWQSUoVDKx4N"
      },
      "source": [
        "census_df[\"capital-gain\"] = Normalization(census_df[\"capital-gain\"])\n",
        "census_df[\"capital-loss\"] = Normalization(census_df[\"capital-loss\"])\n",
        "census_df[\"education-num\"] = Normalization(census_df[\"education-num\"])\n",
        "census_df[\"age\"] = Normalization(census_df[\"age\"])"
      ],
      "execution_count": 27,
      "outputs": []
    },
    {
      "cell_type": "markdown",
      "metadata": {
        "id": "bkqWQiNA-QR9"
      },
      "source": [
        "##### Removing duplicated rows"
      ]
    },
    {
      "cell_type": "code",
      "metadata": {
        "id": "8GgrQcCg0NAl",
        "colab": {
          "base_uri": "https://localhost:8080/"
        },
        "outputId": "7fc7d16f-b974-4f16-be11-89825ad0e8d3"
      },
      "source": [
        "# checking duplicate rows\n",
        "# serial no. should be removed before checking duplicates (we don't have any such column)\n",
        "# Getting index of duplicated rows \n",
        "census_df.index[census_df.duplicated()]"
      ],
      "execution_count": 28,
      "outputs": [
        {
          "output_type": "execute_result",
          "data": {
            "text/plain": [
              "Int64Index([   81,    84,   108,   140,   145,   150,   151,   164,   166,\n",
              "              189,\n",
              "            ...\n",
              "            17826, 17827, 17829, 17830, 17831, 17832, 17833, 17834, 17837,\n",
              "            17838],\n",
              "           dtype='int64', length=8862)"
            ]
          },
          "metadata": {},
          "execution_count": 28
        }
      ]
    },
    {
      "cell_type": "code",
      "metadata": {
        "colab": {
          "base_uri": "https://localhost:8080/"
        },
        "id": "tMyofoPi0NJn",
        "outputId": "7942a961-e428-41af-b27d-e50eb0be50c9"
      },
      "source": [
        "# Getting count of duplicate rows\n",
        "census_df.duplicated().sum()"
      ],
      "execution_count": 29,
      "outputs": [
        {
          "output_type": "execute_result",
          "data": {
            "text/plain": [
              "8862"
            ]
          },
          "metadata": {},
          "execution_count": 29
        }
      ]
    },
    {
      "cell_type": "code",
      "metadata": {
        "id": "pQwDZu_e0NU9"
      },
      "source": [
        "# Removing duplicate rows\n",
        "census_df.drop(axis=\"rows\", labels=census_df.index[census_df.duplicated()], inplace=True)"
      ],
      "execution_count": 30,
      "outputs": []
    },
    {
      "cell_type": "code",
      "metadata": {
        "id": "nMZe2LfA0Ned",
        "colab": {
          "base_uri": "https://localhost:8080/"
        },
        "outputId": "77481466-24d6-481d-b420-92859578fe94"
      },
      "source": [
        "# Getting count of duplicate rows again for sanity check \n",
        "census_df.duplicated().sum()"
      ],
      "execution_count": 31,
      "outputs": [
        {
          "output_type": "execute_result",
          "data": {
            "text/plain": [
              "0"
            ]
          },
          "metadata": {},
          "execution_count": 31
        }
      ]
    },
    {
      "cell_type": "markdown",
      "metadata": {
        "id": "cVSCFZhfLvBF"
      },
      "source": [
        "##### Splitting dataset"
      ]
    },
    {
      "cell_type": "code",
      "metadata": {
        "colab": {
          "base_uri": "https://localhost:8080/"
        },
        "id": "lyWLONOoXna-",
        "outputId": "d60854a8-098e-4a72-d90b-2621d202a642"
      },
      "source": [
        "# Shuffle data well to take out random data for training and testing\n",
        "shuffled_df = census_df.sample(frac=1, random_state=2)\n",
        "# Define size of training data\n",
        "train_size = (int)(0.8*len(census_df))\n",
        "# Make separate df for training and testing\n",
        "train_set = shuffled_df[:train_size]\n",
        "test_set = shuffled_df[train_size:]\n",
        "print(len(test_set), len(train_set))"
      ],
      "execution_count": 32,
      "outputs": [
        {
          "output_type": "stream",
          "name": "stdout",
          "text": [
            "1632 6524\n"
          ]
        }
      ]
    },
    {
      "cell_type": "code",
      "metadata": {
        "id": "WrQIpIKxcBrd",
        "colab": {
          "base_uri": "https://localhost:8080/",
          "height": 354
        },
        "outputId": "d7566f52-f7a4-457c-d245-2f15211e33e6"
      },
      "source": [
        "import seaborn as sn\n",
        "sn.heatmap(census_df.corr(), annot=True)"
      ],
      "execution_count": 33,
      "outputs": [
        {
          "output_type": "execute_result",
          "data": {
            "text/plain": [
              "<matplotlib.axes._subplots.AxesSubplot at 0x7f73b5c1de50>"
            ]
          },
          "metadata": {},
          "execution_count": 33
        },
        {
          "output_type": "display_data",
          "data": {
            "image/png": "[encoded data removed]",
            "text/plain": [
              "<Figure size 432x288 with 2 Axes>"
            ]
          },
          "metadata": {
            "needs_background": "light"
          }
        }
      ]
    },
    {
      "cell_type": "markdown",
      "metadata": {
        "id": "6gAIVmZoNBQE"
      },
      "source": [
        "### Classification Model Classes"
      ]
    },
    {
      "cell_type": "markdown",
      "metadata": {
        "id": "hkbDJ_AENWzs"
      },
      "source": [
        "#### Logistic Regression Gradient Ascent Class"
      ]
    },
    {
      "cell_type": "code",
      "metadata": {
        "id": "Sp3R6JBK5AIu"
      },
      "source": [
        "class logestic_regression_gradient_ascent:\n",
        "  def __init__(self,  iterations=2000, learning_rate=0.000005):\n",
        "    self.learning_rate = learning_rate\n",
        "    self.iterations = iterations\n",
        "\n",
        "  # P(y=1 | X;W)\n",
        "  def sigmoid(self, x, W):\n",
        "      return (1/(1+np.exp(-W@x)))\n",
        "\n",
        "  # Decides which class X(entry) belongs to using sigmoid\n",
        "  def P(self, X, W):#y=1\n",
        "    return np.array([1 if (self.sigmoid(x, self.W)> 0.5) else 0 for x in X])\n",
        "\n",
        "  # Learning Algorithm\n",
        "  def train(self, X_train, Y_train):\n",
        "    self.X_train = X_train\n",
        "    self.Y_train = Y_train\n",
        "    X_train = np.c_[X_train, np.ones(X_train.shape[0])]\n",
        "    np.random.seed(2)\n",
        "    self.W = np.random.uniform(high = 1, low = -1, size = X_train.shape[1])\n",
        "    for _ in range(self.iterations):\n",
        "      # Θ(new) = Θ(old) - μ*∂J/∂Θ\n",
        "      dW = X_train.T@(Y_train-self.P(X_train, self.W))\n",
        "      self.W = self.W + self.learning_rate*dW\n",
        "  \n",
        "  # Inferance Algorithm \n",
        "  def predict(self, X_test):\n",
        "    self.X_test = X_test\n",
        "    X_test = np.c_[X_test, np.ones(X_test.shape[0])]\n",
        "    self.Y_pred = self.P(X_test, self.W)\n",
        "    return self.Y_pred\n",
        "\n",
        "  # calculated the accuracy of model using confusion matrix\n",
        "  def accuracy(self, Y_test):\n",
        "    return model_accuracy(Y_test, self.Y_pred)\n",
        "\n",
        "  # calculated the accuracy of model using confusion matrix\n",
        "  def f1_score(self, Y_test):\n",
        "    return f1_score(Y_test, self.Y_pred)"
      ],
      "execution_count": 34,
      "outputs": []
    },
    {
      "cell_type": "markdown",
      "metadata": {
        "id": "FndOR_LYNbDZ"
      },
      "source": [
        "#### Logistic Regression Newton's Method Class"
      ]
    },
    {
      "cell_type": "code",
      "metadata": {
        "id": "oiF96PAZCLca"
      },
      "source": [
        "class logestic_regression_newtons_method:\n",
        "  def __init__(self, iterations=1):\n",
        "    self.iterations = iterations\n",
        "\n",
        "  # P(y=1 | X;W)\n",
        "  def sigmoid(self, X, Y=1):\n",
        "    if Y == 1:\n",
        "      return 1/(1+np.exp(-(X@self.W)))\n",
        "    else:\n",
        "      return 1/(1+np.exp((X@self.W)))\n",
        "  \n",
        "  # Learning Algorithm\n",
        "  def train(self, X_train, Y_train):\n",
        "    self.X_train = X_train\n",
        "    self.Y_train = Y_train\n",
        "    self.W = np.zeros((X_train.shape[1]))\n",
        "    for _ in range(self.iterations):\n",
        "      # Hessian Matrix\n",
        "      H = -X_train.T @ np.diag(self.sigmoid(X_train)*(1-self.sigmoid(X_train))) @ X_train\n",
        "      # Hessian Inverse\n",
        "      HInv = np.linalg.inv(H)\n",
        "      # Differential of cost functionn\n",
        "      dW = X_train.T @ (Y_train-self.sigmoid(X_train))\n",
        "      # Updated Weight\n",
        "      self.W = self.W - HInv @ dW \n",
        "\n",
        "  # Inferance Algorithm\n",
        "  def predict(self, X_test):\n",
        "    self.Y_pred = np.zeros(len(X_test))\n",
        "    X_test = np.array(X_test)\n",
        "    # for row in range(len(X_test)):\n",
        "    self.P0 = self.sigmoid(X_test, Y=0) # probability of X[row] to be class 0\n",
        "    self.P1 = self.sigmoid(X_test) # probability of X[row] to be class 1\n",
        "    # comparing the prob and getting the predicted class\n",
        "    for i in range(len(X_test)):\n",
        "      if self.P0[i]>self.P1[i]:\n",
        "        self.Y_pred[i] = 0\n",
        "      else:\n",
        "        self.Y_pred[i] = 1\n",
        "    # self.Y_pred = 1 if(p1>p0) else 0\n",
        "    # print(p0,p1)\n",
        "    return self.Y_pred\n",
        "\n",
        "  # calculated the accuracy of model using confusion matrix\n",
        "  def accuracy(self, Y_test):\n",
        "    return model_accuracy(Y_test, self.Y_pred)\n",
        "\n",
        "  # calculated the accuracy of model using confusion matrix\n",
        "  def f1_score(self, Y_test):\n",
        "    return f1_score(Y_test, self.Y_pred)"
      ],
      "execution_count": 35,
      "outputs": []
    },
    {
      "cell_type": "markdown",
      "metadata": {
        "id": "d_-aIVl_NeR4"
      },
      "source": [
        "#### Naive Bayes Model Class"
      ]
    },
    {
      "cell_type": "code",
      "metadata": {
        "id": "PpSN8psDy_gR"
      },
      "source": [
        "class NaiveBayes():\n",
        "# calculates gaussian probability given and value and a class  \n",
        "  def probability(self, X, row, col, c):\n",
        "    return (1/self.stds[c][col]*np.sqrt(2*3.14)) * np.exp(-((X[row][col]-self.means[c][col])**2)/2*self.stds[c][col]**2)\n",
        "\n",
        "  # Learning Algorithm\n",
        "  def train(self, X_train, Y_train):\n",
        "    # finding mean for each feature\n",
        "    self.means = np.array(X_train.groupby(Y_train).apply(np.mean))\n",
        "    # finding standard deviation for each feature\n",
        "    self.stds = np.array(X_train.groupby(Y_train).apply(np.std)) \n",
        "    # calculating probability of each class\n",
        "    self.pc = [len(train_set[train_set[\"income\"] == 0])/len(train_set), len(train_set[train_set[\"income\"] == 1])/len(train_set)]\n",
        "    X_train = np.array(X_train)\n",
        "\n",
        "  # Inferance Algorithm\n",
        "  def predict(self, X_test):\n",
        "    self.Y_pred = []\n",
        "    X_test = np.array(X_test)\n",
        "    for row in range(len(X_test)):\n",
        "      p0 = self.pc[0] # probability of X[row] to be class 0\n",
        "      p1 = self.pc[1] # probability of X[row] to be class 1\n",
        "      # calculating prob of each feature to be in given class\n",
        "      # by considering them independent \n",
        "      # and hence by multiplying their probabilities together  \n",
        "      for col in range(X_test.shape[1]):\n",
        "        p0 *= self.probability(X_test, row, col, 0)\n",
        "        p1 *= self.probability(X_test, row, col, 1)\n",
        "      # comparing the prob and getting the predicted class\n",
        "      self.Y_pred.append(1 if(p1>p0) else 0)\n",
        "    return self.Y_pred\n",
        "\n",
        "  # calculated the accuracy of model using confusion matrix\n",
        "  def accuracy(self, Y_test):\n",
        "    return model_accuracy(Y_test, self.Y_pred)\n",
        "\n",
        "  # calculated the accuracy of model using confusion matrix\n",
        "  def f1_score(self, Y_test):\n",
        "    return f1_score(Y_test, self.Y_pred)"
      ],
      "execution_count": 36,
      "outputs": []
    },
    {
      "cell_type": "markdown",
      "metadata": {
        "id": "YjQP9zN5ri0l"
      },
      "source": [
        "### Models"
      ]
    },
    {
      "cell_type": "markdown",
      "metadata": {
        "id": "Yt_wleMMcImU"
      },
      "source": [
        "###### Getting Training and Testing data"
      ]
    },
    {
      "cell_type": "code",
      "metadata": {
        "id": "RqiYMajbCvDo"
      },
      "source": [
        "test_set.columns"
      ],
      "execution_count": null,
      "outputs": []
    },
    {
      "cell_type": "code",
      "metadata": {
        "id": "UQ5A97urEd-W"
      },
      "source": [
        "Y_train = np.array(train_set[\"income\"])\n",
        "Y_test = np.array(test_set[\"income\"])\n",
        "drop = [\"income\",\n",
        "        # 'age',\n",
        "        'education-num',\n",
        "        'capital-gain', 'capital-loss', 'hours-per-week'\n",
        "      #  , 'workclass_Federal-gov', 'workclass_Local-gov',\n",
        "      #  'workclass_Private', 'workclass_Self-emp-inc',\n",
        "      #  'workclass_Self-emp-not-inc', 'workclass_State-gov',\n",
        "      #  'workclass_Without-pay', 'occupation_Adm-clerical',\n",
        "      #  'occupation_Armed-Forces', 'occupation_Craft-repair',\n",
        "      #  'occupation_Exec-managerial', 'occupation_Farming-fishing',\n",
        "      #  'occupation_Handlers-cleaners', 'occupation_Machine-op-inspct',\n",
        "      #  'occupation_Other-service', 'occupation_Priv-house-serv',\n",
        "      #  'occupation_Prof-specialty', 'occupation_Protective-serv',\n",
        "      #  'occupation_Sales', 'occupation_Tech-support',\n",
        "      #  'occupation_Transport-moving', 'race_Amer-Indian-Eskimo',\n",
        "      #  'race_Asian-Pac-Islander', 'race_Black', 'race_Other', 'race_White',\n",
        "      #  'sex_Female', 'sex_Male', 'relationship_Husband',\n",
        "      #  'relationship_Not-in-family', 'relationship_Other-relative',\n",
        "      #  'relationship_Own-child', 'relationship_Unmarried', 'relationship_Wife',\n",
        "      #  'native-country_Cambodia', 'native-country_Canada',\n",
        "      #  'native-country_China', 'native-country_Columbia',\n",
        "      #  'native-country_Cuba', 'native-country_Dominican-Republic',\n",
        "      #  'native-country_Ecuador', 'native-country_El-Salvador',\n",
        "      #  'native-country_England', 'native-country_France',\n",
        "      #  'native-country_Germany', 'native-country_Greece',\n",
        "      #  'native-country_Guatemala', 'native-country_Haiti',\n",
        "      #  'native-country_Honduras', 'native-country_Hong',\n",
        "      #  'native-country_Hungary', 'native-country_India', 'native-country_Iran',\n",
        "      #  'native-country_Ireland', 'native-country_Italy',\n",
        "      #  'native-country_Jamaica', 'native-country_Japan', 'native-country_Laos',\n",
        "      #  'native-country_Mexico', 'native-country_Nicaragua',\n",
        "      #  'native-country_Peru', 'native-country_Philippines',\n",
        "      #  'native-country_Poland', 'native-country_Portugal',\n",
        "      #  'native-country_Puerto-Rico', 'native-country_Scotland',\n",
        "      #  'native-country_South', 'native-country_Taiwan',\n",
        "      #  'native-country_Thailand', 'native-country_Trinadad&Tobago',\n",
        "      #  'native-country_United-States', 'native-country_Vietnam',\n",
        "      #  'native-country_Yugoslavia', 'marital-status_Divorced',\n",
        "      #  'marital-status_Married-AF-spouse', 'marital-status_Married-civ-spouse',\n",
        "      #  'marital-status_Married-spouse-absent', 'marital-status_Never-married',\n",
        "      #  'marital-status_Separated', 'marital-status_Widowed'\n",
        "]\n",
        "X_log_train = np.array(train_set.drop(axis=1, labels=drop))\n",
        "X_log_test = np.array(test_set.drop(axis=1, labels=drop))\n",
        "\n",
        "X_nv_train = train_set.drop(axis=1, labels=drop)\n",
        "X_nv_test = test_set.drop(axis=1, labels=drop)"
      ],
      "execution_count": 46,
      "outputs": []
    },
    {
      "cell_type": "markdown",
      "metadata": {
        "id": "AkJ2Pz4zr7Rd"
      },
      "source": [
        "###### Logistic Regression Gradient Ascent Model"
      ]
    },
    {
      "cell_type": "code",
      "metadata": {
        "id": "ikKM4uDBr6k7"
      },
      "source": [
        "logestic_regression_gradient_ascent_model = logestic_regression_gradient_ascent(500, 0.000005)\n",
        "# Training Model\n",
        "logestic_regression_gradient_ascent_model.train(X_log_train, Y_train)\n",
        "# Inferance Algorithm\n",
        "logestic_regression_gradient_ascent_model.predict(X_log_test)\n",
        "# Checking Accuracy\n",
        "print(\"Logistic Regression Gradient Ascent Model\")\n",
        "print(\"accuracy   : \",logestic_regression_gradient_ascent_model.accuracy(Y_test))\n",
        "print(\"f1_score   : \",logestic_regression_gradient_ascent_model.f1_score(Y_test))"
      ],
      "execution_count": null,
      "outputs": []
    },
    {
      "cell_type": "markdown",
      "metadata": {
        "id": "RlJwlB_or71X"
      },
      "source": [
        "###### Logistic Regression Newton's Method Model "
      ]
    },
    {
      "cell_type": "code",
      "metadata": {
        "id": "x_KB5dnOr8Om"
      },
      "source": [
        "logestic_regression_newtons_method_model = logestic_regression_newtons_method();\n",
        "# Learning Algorithm\n",
        "logestic_regression_newtons_method_model.train(X_log_train, Y_train)\n",
        "# Inferance Algorithm\n",
        "logestic_regression_newtons_method_model.predict(X_log_test)\n",
        "# Checking Accuracy\n",
        "print(\"Logistic Regression Newton's Method Model\")\n",
        "print(\"accuracy   : \",logestic_regression_newtons_method_model.accuracy(Y_test))\n",
        "print(\"f1_score   : \",logestic_regression_newtons_method_model.f1_score(Y_test))"
      ],
      "execution_count": null,
      "outputs": []
    },
    {
      "cell_type": "markdown",
      "metadata": {
        "id": "3Vy624LUr0st"
      },
      "source": [
        "###### Naive Bayes Model"
      ]
    },
    {
      "cell_type": "code",
      "metadata": {
        "id": "4FBvBfmaxV2c"
      },
      "source": [
        "NaiveBayesModel = NaiveBayes()\n",
        "# Learning Algorithm\n",
        "NaiveBayesModel.train(X_nv_train, Y_train)\n",
        "# Inferance Algorithm\n",
        "NaiveBayesModel.predict(X_nv_test)\n",
        "# Checking Accuracy\n",
        "print(\"Naive Bayes Model\")\n",
        "print(\"accuracy   : \",NaiveBayesModel.accuracy(Y_test))\n",
        "print(\"f1_score   : \",NaiveBayesModel.f1_score(Y_test))"
      ],
      "execution_count": null,
      "outputs": []
    },
    {
      "cell_type": "code",
      "metadata": {
        "id": "jL2U9aH39Yfm"
      },
      "source": [
        "print(\"Naive Bayes Model\")\n",
        "print(\"accuracy   : 72.372262773493104\")\n",
        "print(\"f1_score   : 0.6434937611408199\")"
      ],
      "execution_count": null,
      "outputs": []
    }
  ]
}